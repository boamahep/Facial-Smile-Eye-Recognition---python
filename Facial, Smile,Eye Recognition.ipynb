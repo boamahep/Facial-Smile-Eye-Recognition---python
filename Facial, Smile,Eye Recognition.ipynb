{
 "cells": [
  {
   "cell_type": "code",
   "execution_count": null,
   "metadata": {},
   "outputs": [],
   "source": [
    "# importing the libraries\n",
    "import cv2"
   ]
  },
  {
   "cell_type": "code",
   "execution_count": null,
   "metadata": {},
   "outputs": [],
   "source": [
    "face_Cascade = cv2.CascadeClassifier(\"haarcascade_frontalface_default.xml\")\n",
    "smile_Cascade = cv2.CascadeClassifier(\"haarcascade_smile.xml\")\n",
    "eye_Cascade = cv2.CascadeClassifier(\"haarcascade_eye.xml\")"
   ]
  },
  {
   "cell_type": "code",
   "execution_count": null,
   "metadata": {},
   "outputs": [],
   "source": [
    "capture = cv2.VideoCapture(0)"
   ]
  },
  {
   "cell_type": "code",
   "execution_count": null,
   "metadata": {},
   "outputs": [],
   "source": [
    "while True:\n",
    "    response, frame = capture.read()\n",
    "    gray = cv2.cvtColor(frame, cv2.COLOR_BGR2GRAY)\n",
    "    \n",
    "    faces = face_Cascade.detectMultiScale(gray, 1.3, 5)\n",
    "    for(x, y, w, h)in faces:\n",
    "        cv2.rectangle(frame,(x, y),(x+w, y+h),(0, 250, 0), 2)\n",
    "        cropped_gray = gray[y:y+h, x:x+w]\n",
    "        cropped_color = frame[y:y+h, x:x+w]\n",
    "        roi_gray = gray[y:y+h, x:x+w]\n",
    "        roi_color = frame[y:y+h, x:x+w]\n",
    "        smile = smile_Cascade.detectMultiScale(cropped_gray,  1.6,22)\n",
    "        for (sx, sy, sw, sh) in smile:\n",
    "             cv2.rectangle(cropped_color,(sx, sy),(sx+sw, sy+sh),(0,0,255),2)\n",
    "        eyes = eye_Cascade.detectMultiScale(roi_gray) \n",
    "        for (ex, ey, ew, eh) in eyes:\n",
    "             cv2.rectangle(roi_color,(ex, ey),(ex+ew, ey+eh),(0,0,255),2)\n",
    "                             \n",
    "    cv2.imshow('Smile Detector', frame)\n",
    "    if cv2.waitKey(1) == ord('q'):\n",
    "        break                      "
   ]
  },
  {
   "cell_type": "code",
   "execution_count": null,
   "metadata": {},
   "outputs": [],
   "source": [
    "capture.release()cv2.destroyALLWindows"
   ]
  },
  {
   "cell_type": "code",
   "execution_count": null,
   "metadata": {},
   "outputs": [],
   "source": []
  }
 ],
 "metadata": {
  "kernelspec": {
   "display_name": "Python 3",
   "language": "python",
   "name": "python3"
  },
  "language_info": {
   "codemirror_mode": {
    "name": "ipython",
    "version": 3
   },
   "file_extension": ".py",
   "mimetype": "text/x-python",
   "name": "python",
   "nbconvert_exporter": "python",
   "pygments_lexer": "ipython3",
   "version": "3.7.3"
  }
 },
 "nbformat": 4,
 "nbformat_minor": 2
}
